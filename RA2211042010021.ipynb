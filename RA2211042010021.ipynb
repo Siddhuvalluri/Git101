{
  "nbformat": 4,
  "nbformat_minor": 0,
  "metadata": {
    "colab": {
      "provenance": [],
      "authorship_tag": "ABX9TyNO4xHRZPao/+GXjW9T3JKF",
      "include_colab_link": true
    },
    "kernelspec": {
      "name": "python3",
      "display_name": "Python 3"
    },
    "language_info": {
      "name": "python"
    }
  },
  "cells": [
    {
      "cell_type": "markdown",
      "metadata": {
        "id": "view-in-github",
        "colab_type": "text"
      },
      "source": [
        "<a href=\"https://colab.research.google.com/github/Siddhuvalluri/Git101/blob/main/RA2211042010021.ipynb\" target=\"_parent\"><img src=\"https://colab.research.google.com/assets/colab-badge.svg\" alt=\"Open In Colab\"/></a>"
      ]
    },
    {
      "cell_type": "markdown",
      "source": [
        "calculating seconds in an hour"
      ],
      "metadata": {
        "id": "5ufLPKqcNOm5"
      }
    },
    {
      "cell_type": "code",
      "execution_count": 2,
      "metadata": {
        "colab": {
          "base_uri": "https://localhost:8080/"
        },
        "id": "8sBowK5CJ7xy",
        "outputId": "d90d7aad-af59-4d84-a19d-20b59237e4e1"
      },
      "outputs": [
        {
          "output_type": "execute_result",
          "data": {
            "text/plain": [
              "3600"
            ]
          },
          "metadata": {},
          "execution_count": 2
        }
      ],
      "source": [
        "seconds_in_an_hour = 60 * 60\n",
        "seconds_in_an_hour                           "
      ]
    },
    {
      "cell_type": "markdown",
      "source": [
        "hello world "
      ],
      "metadata": {
        "id": "rrV8BcrKNK-E"
      }
    },
    {
      "cell_type": "code",
      "source": [
        "print(\"HELLO WORLD\")"
      ],
      "metadata": {
        "id": "OXvLlwHvLbiR"
      },
      "execution_count": null,
      "outputs": []
    },
    {
      "cell_type": "markdown",
      "source": [
        "substaction of two numbers"
      ],
      "metadata": {
        "id": "B38bUdfDOEuE"
      }
    },
    {
      "cell_type": "code",
      "source": [
        "7008 - 8"
      ],
      "metadata": {
        "colab": {
          "base_uri": "https://localhost:8080/"
        },
        "id": "PSl-vVQlNiYF",
        "outputId": "86e14687-a042-4b11-a856-00539e142c0c"
      },
      "execution_count": 12,
      "outputs": [
        {
          "output_type": "execute_result",
          "data": {
            "text/plain": [
              "7000"
            ]
          },
          "metadata": {},
          "execution_count": 12
        }
      ]
    },
    {
      "cell_type": "markdown",
      "source": [
        "addition of two numbers"
      ],
      "metadata": {
        "id": "f8Oet0OKNHYI"
      }
    },
    {
      "cell_type": "code",
      "source": [
        "9348894343 + 8249380487"
      ],
      "metadata": {
        "colab": {
          "base_uri": "https://localhost:8080/"
        },
        "id": "s0O-0X7HLsjv",
        "outputId": "a56d010d-d6c5-4497-df5f-a80515544558"
      },
      "execution_count": 11,
      "outputs": [
        {
          "output_type": "execute_result",
          "data": {
            "text/plain": [
              "17598274830"
            ]
          },
          "metadata": {},
          "execution_count": 11
        }
      ]
    },
    {
      "cell_type": "markdown",
      "source": [
        "printing my name"
      ],
      "metadata": {
        "id": "wpPRzO-UNDjE"
      }
    },
    {
      "cell_type": "code",
      "source": [
        "x = \"siddhu valluri\"\n",
        "print(x)"
      ],
      "metadata": {
        "id": "32CoGDsIMHcq"
      },
      "execution_count": null,
      "outputs": []
    },
    {
      "cell_type": "markdown",
      "source": [
        "division of two numbers"
      ],
      "metadata": {
        "id": "Rtm7j-tDOwOZ"
      }
    },
    {
      "cell_type": "code",
      "source": [
        "666 / 6"
      ],
      "metadata": {
        "colab": {
          "base_uri": "https://localhost:8080/"
        },
        "id": "ByoXSry4MiLZ",
        "outputId": "2468b86f-2135-4d0b-e921-6cffd5eeb245"
      },
      "execution_count": 14,
      "outputs": [
        {
          "output_type": "execute_result",
          "data": {
            "text/plain": [
              "111.0"
            ]
          },
          "metadata": {},
          "execution_count": 14
        }
      ]
    },
    {
      "cell_type": "markdown",
      "source": [
        "reminder"
      ],
      "metadata": {
        "id": "HxG27SltO4-j"
      }
    },
    {
      "cell_type": "code",
      "source": [
        "500%3"
      ],
      "metadata": {
        "colab": {
          "base_uri": "https://localhost:8080/"
        },
        "id": "-H6ymeCHO7MO",
        "outputId": "6438a2de-540d-4abb-9cfa-bcaa7eecbd83"
      },
      "execution_count": 17,
      "outputs": [
        {
          "output_type": "execute_result",
          "data": {
            "text/plain": [
              "2"
            ]
          },
          "metadata": {},
          "execution_count": 17
        }
      ]
    },
    {
      "cell_type": "markdown",
      "source": [
        "calculating area of square"
      ],
      "metadata": {
        "id": "6ajWtmIgPN8Q"
      }
    },
    {
      "cell_type": "code",
      "source": [
        "side = 12\n",
        "area = side * side\n",
        "print(\"area of the square is %d\" %area)"
      ],
      "metadata": {
        "colab": {
          "base_uri": "https://localhost:8080/"
        },
        "id": "CAjUzRdWP4VJ",
        "outputId": "51c4fd4f-6036-4e38-da91-ebcdf52285f5"
      },
      "execution_count": 26,
      "outputs": [
        {
          "output_type": "stream",
          "name": "stdout",
          "text": [
            "area of the square=144\n"
          ]
        }
      ]
    },
    {
      "cell_type": "markdown",
      "source": [
        "area of rectangle"
      ],
      "metadata": {
        "id": "XSiprTiZTlWP"
      }
    },
    {
      "cell_type": "code",
      "source": [
        "length = 12\n",
        "breadth = 4\n",
        "area = length*breadth\n",
        "print(\"area of the rectangle is %d\" %area)"
      ],
      "metadata": {
        "colab": {
          "base_uri": "https://localhost:8080/"
        },
        "id": "ML7HArVsTzwm",
        "outputId": "0c33a456-bfd2-4dcb-bcea-d41df2e96c44"
      },
      "execution_count": 38,
      "outputs": [
        {
          "output_type": "stream",
          "name": "stdout",
          "text": [
            "area of the rectangle is 48\n"
          ]
        }
      ]
    }
  ]
}